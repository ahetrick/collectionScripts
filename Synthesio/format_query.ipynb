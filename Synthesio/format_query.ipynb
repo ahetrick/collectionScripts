{
 "cells": [
  {
   "cell_type": "code",
   "execution_count": 3,
   "metadata": {
    "collapsed": true
   },
   "outputs": [],
   "source": [
    "import re"
   ]
  },
  {
   "cell_type": "markdown",
   "metadata": {},
   "source": [
    "### format query"
   ]
  },
  {
   "cell_type": "code",
   "execution_count": 41,
   "metadata": {
    "collapsed": true
   },
   "outputs": [],
   "source": [
    "def format_query(raw_query):\n",
    "    \n",
    "    # seperate exact on “and” and \"not\"\n",
    "    regex = re.compile(r'\\band\\b|\\bnot\\b',re.IGNORECASE)\n",
    "    keywords = regex.split(raw_query)\n",
    "    boolean = regex.findall(raw_query)\n",
    "    \n",
    "    new_keywords = []\n",
    "    \n",
    "    # check if there's or in new keywords\n",
    "    for k in keywords:\n",
    "        or_regex = re.compile(r'\\bor\\b',re.IGNORECASE)\n",
    "        or_keywords = or_regex.split(k)\n",
    "        or_boolean = or_regex.findall(k)\n",
    "        \n",
    "        or_new_keywords = []\n",
    "        for kk in or_keywords:\n",
    "            or_new_keywords.append(\" \".join(kk.split()))\n",
    "    \n",
    "        # if there's \"or\" boolean exist\n",
    "        # construct \"or\" boolean first\n",
    "        if or_boolean != []:\n",
    "            if '' in or_new_keywords:\n",
    "                print('illegal query! Please double check!')\n",
    "                return None\n",
    "            else:\n",
    "                sub_query_string = \"\"\n",
    "                for i in range(len(or_new_keywords)):\n",
    "                    if i== 0:\n",
    "                        sub_query_string += \"(\\\"\" + or_new_keywords[i] + \"\\\" \" + or_boolean[i].upper() + \" \"\n",
    "                    elif i== len(or_new_keywords)-1:\n",
    "                        sub_query_string += \"\\\"\" + or_new_keywords[i] + \"\\\")\"\n",
    "                    else:\n",
    "                        sub_query_string += \"\\\"\" + or_new_keywords[i]  + \"\\\" \" + or_boolean[i].upper() + \" \"\n",
    "\n",
    "            new_keywords.append(sub_query_string)\n",
    "        \n",
    "        # if \"or\" boolean not exist\n",
    "        # just strip the trailing spaces and wrap them into \" \"\n",
    "        else:\n",
    "            new_keywords.append(\"\\\"\" +  \" \".join(k.split()) + \"\\\"\")\n",
    "                 \n",
    "    if '\\\"\\\"' in new_keywords:\n",
    "        print('illegal query! Please double check!')\n",
    "        return None\n",
    "    \n",
    "    else:\n",
    "        \n",
    "        new_query_string = \"\"\n",
    "        for i in range(len(new_keywords)):\n",
    "            if i == len(new_keywords)-1:\n",
    "                new_query_string += new_keywords[i] \n",
    "            else:\n",
    "                new_query_string += new_keywords[i]  + \" \" + boolean[i].upper() + \" \"\n",
    "        \n",
    "        return new_query_string"
   ]
  },
  {
   "cell_type": "markdown",
   "metadata": {},
   "source": [
    "### test"
   ]
  },
  {
   "cell_type": "code",
   "execution_count": 45,
   "metadata": {},
   "outputs": [
    {
     "name": "stdout",
     "output_type": "stream",
     "text": [
      "\"you\" AND (\"me\" OR \"them\") NOT \"him\" AND \"her\" \n",
      "\n",
      "\"you\" NOT (\"me\" OR \"them\") NOT \"him\" AND \"her\" \n",
      "\n",
      "(\"renewable energy\" OR \"bioenergy\" OR \"biofuel\" OR \"biomass\") AND (\"climate change\" OR \"global warming\" OR \"green house gases\") NOT (\"registlation\" OR \"legal issues\") \n",
      "\n",
      "\"renewable energy\" \n",
      "\n",
      "\"renewable energy\" AND \"bioenergy\" \n",
      "\n",
      "\"facebook account\" NOT \"twitter account\" \n",
      "\n",
      "(\"apple\" OR \"orange\") \n",
      "\n",
      "illegal query! Please double check!\n",
      "None\n",
      "illegal query! Please double check!\n",
      "None\n",
      "illegal query! Please double check!\n",
      "None\n",
      "illegal query! Please double check!\n",
      "None\n",
      "illegal query! Please double check!\n",
      "None\n",
      "illegal query! Please double check!\n",
      "None\n",
      "illegal query! Please double check!\n",
      "None\n"
     ]
    }
   ],
   "source": [
    "print(format_query(\"you and me or them not him and her\"),'\\n')\n",
    "print(format_query(\"you not me or them not him and her\"),'\\n')\n",
    "print(format_query(\"renewable energy or bioenergy or biofuel or biomass \\\n",
    "             and climate change or global warming or green house gases \\\n",
    "             not registlation or legal issues\"),'\\n')\n",
    "print(format_query(\"renewable energy\"),'\\n')\n",
    "print(format_query(\"renewable energy and bioenergy\"),'\\n')\n",
    "print(format_query(\"facebook account not twitter account\"),'\\n')\n",
    "print(format_query(\"apple or orange\"),'\\n')\n",
    "print(format_query(\"facebook account or linkedin account and twitter or reddit not \"))\n",
    "print(format_query(\"A and\"))\n",
    "print(format_query(\"not B\"))\n",
    "print(format_query(\"C or\"))\n",
    "print(format_query(\"and\"))\n",
    "print(format_query(\"or\"))\n",
    "print(format_query(\"not\"))"
   ]
  }
 ],
 "metadata": {
  "kernelspec": {
   "display_name": "Python 3",
   "language": "python",
   "name": "python3"
  },
  "language_info": {
   "codemirror_mode": {
    "name": "ipython",
    "version": 3
   },
   "file_extension": ".py",
   "mimetype": "text/x-python",
   "name": "python",
   "nbconvert_exporter": "python",
   "pygments_lexer": "ipython3",
   "version": "3.6.1"
  }
 },
 "nbformat": 4,
 "nbformat_minor": 2
}
